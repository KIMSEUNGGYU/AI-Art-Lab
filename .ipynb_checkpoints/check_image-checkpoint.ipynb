{
 "cells": [
  {
   "cell_type": "code",
   "execution_count": 1,
   "metadata": {
    "scrolled": false
   },
   "outputs": [
    {
     "name": "stdout",
     "output_type": "stream",
     "text": [
      "/home/pirl/Desktop/data/wikiart\n"
     ]
    },
    {
     "name": "stderr",
     "output_type": "stream",
     "text": [
      "/home/pirl/anaconda2/envs/py355/lib/python3.5/site-packages/ipykernel_launcher.py:11: DeprecationWarning: `imread` is deprecated!\n",
      "`imread` is deprecated in SciPy 1.0.0, and will be removed in 1.2.0.\n",
      "Use ``imageio.imread`` instead.\n",
      "  # This is added back by InteractiveShellApp.init_path()\n",
      "/home/pirl/anaconda2/envs/py355/lib/python3.5/site-packages/ipykernel_launcher.py:47: DeprecationWarning: `imresize` is deprecated!\n",
      "`imresize` is deprecated in SciPy 1.0.0, and will be removed in 1.2.0.\n",
      "Use ``skimage.transform.resize`` instead.\n"
     ]
    },
    {
     "name": "stdout",
     "output_type": "stream",
     "text": [
      ".. None\n",
      ".. None\n",
      ".. None\n",
      ".. None\n",
      "/home/pirl/Desktop/data/wikiart/Post_Impressionism/vincent-van-gogh_l-arlesienne-portrait-of-madame-ginoux-1890.jpg\n",
      " === Bad image. filepath:  /home/pirl/Desktop/data/wikiart/Post_Impressionism/vincent-van-gogh_l-arlesienne-portrait-of-madame-ginoux-1890.jpg\n",
      ".. None\n"
     ]
    },
    {
     "name": "stderr",
     "output_type": "stream",
     "text": [
      "/home/pirl/anaconda2/envs/py355/lib/python3.5/site-packages/PIL/Image.py:2509: DecompressionBombWarning: Image size (99962094 pixels) exceeds limit of 89478485 pixels, could be decompression bomb DOS attack.\n",
      "  DecompressionBombWarning)\n",
      "/home/pirl/anaconda2/envs/py355/lib/python3.5/site-packages/PIL/Image.py:2509: DecompressionBombWarning: Image size (107327830 pixels) exceeds limit of 89478485 pixels, could be decompression bomb DOS attack.\n",
      "  DecompressionBombWarning)\n"
     ]
    },
    {
     "name": "stdout",
     "output_type": "stream",
     "text": [
      ".. None\n"
     ]
    },
    {
     "name": "stderr",
     "output_type": "stream",
     "text": [
      "/home/pirl/anaconda2/envs/py355/lib/python3.5/site-packages/PIL/TiffImagePlugin.py:725: UserWarning: Possibly corrupt EXIF data.  Expecting to read 4718592 bytes but only got 0. Skipping tag 0\n",
      "  \" Skipping tag %s\" % (size, len(data), tag))\n",
      "/home/pirl/anaconda2/envs/py355/lib/python3.5/site-packages/PIL/TiffImagePlugin.py:725: UserWarning: Possibly corrupt EXIF data.  Expecting to read 787528 bytes but only got 5401. Skipping tag 0\n",
      "  \" Skipping tag %s\" % (size, len(data), tag))\n",
      "/home/pirl/anaconda2/envs/py355/lib/python3.5/site-packages/PIL/TiffImagePlugin.py:725: UserWarning: Possibly corrupt EXIF data.  Expecting to read 7281180688 bytes but only got 0. Skipping tag 8\n",
      "  \" Skipping tag %s\" % (size, len(data), tag))\n",
      "/home/pirl/anaconda2/envs/py355/lib/python3.5/site-packages/PIL/TiffImagePlugin.py:725: UserWarning: Possibly corrupt EXIF data.  Expecting to read 787528 bytes but only got 5533. Skipping tag 0\n",
      "  \" Skipping tag %s\" % (size, len(data), tag))\n"
     ]
    },
    {
     "name": "stdout",
     "output_type": "stream",
     "text": [
      ".. None\n",
      ".. None\n",
      ".. None\n",
      ".. None\n",
      ".. None\n",
      ".. None\n",
      ".. None\n",
      ".. None\n",
      ".. None\n",
      ".. None\n",
      ".. None\n",
      ".. None\n",
      ".. None\n",
      ".. None\n",
      ".. None\n",
      ".. None\n",
      ".. None\n",
      ".. None\n",
      ".. None\n",
      ".. None\n",
      ".. None\n",
      ".. None\n"
     ]
    }
   ],
   "source": [
    "import os\n",
    "import tensorflow as tf\n",
    "import scipy.misc\n",
    "import numpy as np\n",
    "\n",
    "def imread(path, grayscale = False):\n",
    "    try:\n",
    "        if (grayscale):\n",
    "            return scipy.misc.imread(path, flatten = True).astype(np.float)\n",
    "        else:\n",
    "            return scipy.misc.imread(path).astype(np.float)\n",
    "    except(TypeError):\n",
    "        print(path)\n",
    "    \n",
    "def get_image(image_path, input_height, \n",
    "              input_width,resize_height=64, \n",
    "              resize_width=64, crop=True, \n",
    "              grayscale=False):\n",
    "    image = imread(image_path, grayscale)\n",
    "    try:\n",
    "        return transform(image, input_height=108, input_width=108,\n",
    "                   resize_height=64, resize_width=64, crop=False)\n",
    "    except ValueError:\n",
    "        print(\" === Bad image. filepath: \", image_path)\n",
    "        \n",
    "        \n",
    "def search(dirname):\n",
    "    try:\n",
    "        filenames = os.listdir(dirname)\n",
    "        for filename in filenames:\n",
    "            full_filename = os.path.join(dirname, filename)\n",
    "            if os.path.isdir(full_filename):\n",
    "                print('..', search(full_filename))\n",
    "                \n",
    "            else:\n",
    "                ext = os.path.splitext(full_filename)[-1]\n",
    "                if ext == '.jpg': \n",
    "                    get_image(full_filename, 64, 64, 64, 64, False, False)\n",
    "    except PermissionError:\n",
    "        pass\n",
    "def transform(image, input_height, input_width,\n",
    "              resize_height=64, resize_width=64, crop=True):\n",
    "    if crop:\n",
    "        cropped_image = center_crop(image, input_height, input_width,resize_height, resize_width)\n",
    "    else:\n",
    "        cropped_image = scipy.misc.imresize(image, [resize_height, resize_width])\n",
    "        \n",
    "    return np.array(cropped_image)/127.5 - 1.\n",
    "\n",
    "print(os.getcwd())\n",
    "search(os.getcwd())\n"
   ]
  },
  {
   "cell_type": "code",
   "execution_count": null,
   "metadata": {},
   "outputs": [],
   "source": []
  }
 ],
 "metadata": {
  "kernelspec": {
   "display_name": "Python 3",
   "language": "python",
   "name": "python3"
  },
  "language_info": {
   "codemirror_mode": {
    "name": "ipython",
    "version": 3
   },
   "file_extension": ".py",
   "mimetype": "text/x-python",
   "name": "python",
   "nbconvert_exporter": "python",
   "pygments_lexer": "ipython3",
   "version": "3.5.4"
  }
 },
 "nbformat": 4,
 "nbformat_minor": 2
}
